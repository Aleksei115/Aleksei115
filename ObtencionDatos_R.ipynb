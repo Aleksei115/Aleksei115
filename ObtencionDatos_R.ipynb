{
  "nbformat": 4,
  "nbformat_minor": 0,
  "metadata": {
    "colab": {
      "provenance": [],
      "authorship_tag": "ABX9TyPkbzzYlIQbacw4Vk6yWAwC",
      "include_colab_link": true
    },
    "kernelspec": {
      "name": "ir",
      "display_name": "R"
    },
    "language_info": {
      "name": "R"
    }
  },
  "cells": [
    {
      "cell_type": "markdown",
      "metadata": {
        "id": "view-in-github",
        "colab_type": "text"
      },
      "source": [
        "<a href=\"https://colab.research.google.com/github/Aleksei115/Aleksei115/blob/main/ObtencionDatos_R.ipynb\" target=\"_parent\"><img src=\"https://colab.research.google.com/assets/colab-badge.svg\" alt=\"Open In Colab\"/></a>"
      ]
    },
    {
      "cell_type": "code",
      "execution_count": 5,
      "metadata": {
        "colab": {
          "base_uri": "https://localhost:8080/"
        },
        "id": "vJEzkHYO4P4_",
        "outputId": "dc018d8c-e4a5-4057-dd6f-f144209b4e98"
      },
      "outputs": [
        {
          "output_type": "stream",
          "name": "stdout",
          "text": [
            "[1] 10 26 42 58 74\n",
            "[1] 10 26 42 58 74\n"
          ]
        }
      ],
      "source": [
        "sumar_columnas <- function(matriz){\n",
        "    ans <- list()\n",
        "    for i in 1:ncol(matriz){\n",
        "        suma <- 0\n",
        "        for j in 1:nrow(matriz){\n",
        "            suma <- suma + matriz[i][j]\n",
        "        }\n",
        "        ans.\n",
        "    }\n",
        "}\n",
        "\n",
        "\n",
        "matriz_ejemplo <- matrix(1:20,4,5)\n",
        "\n",
        "resultados <- sumar_columnas(matriz_ejemplo)\n",
        "\n",
        "print(resultados)"
      ]
    },
    {
      "cell_type": "markdown",
      "source": [
        "Para leer datos podemos usar la siguiente funcion"
      ],
      "metadata": {
        "id": "4KRcv7Ys_B-A"
      }
    },
    {
      "cell_type": "code",
      "source": [
        "datos <- read.table(\"datos.txt\",header = T)\n",
        "datos"
      ],
      "metadata": {
        "colab": {
          "base_uri": "https://localhost:8080/",
          "height": 255
        },
        "id": "yyq5DSki_I68",
        "outputId": "64028f8a-393e-4523-a158-b028a1bd8b56"
      },
      "execution_count": 9,
      "outputs": [
        {
          "output_type": "display_data",
          "data": {
            "text/html": [
              "<table class=\"dataframe\">\n",
              "<caption>A data.frame: 5 × 4</caption>\n",
              "<thead>\n",
              "\t<tr><th scope=col>FamilyNames</th><th scope=col>FamilyAges</th><th scope=col>FamilyGenders</th><th scope=col>FamilyWeights</th></tr>\n",
              "\t<tr><th scope=col>&lt;chr&gt;</th><th scope=col>&lt;int&gt;</th><th scope=col>&lt;chr&gt;</th><th scope=col>&lt;int&gt;</th></tr>\n",
              "</thead>\n",
              "<tbody>\n",
              "\t<tr><td>Dad</td><td>43</td><td>Male  </td><td>188</td></tr>\n",
              "\t<tr><td>Mom</td><td>42</td><td>Female</td><td>136</td></tr>\n",
              "\t<tr><td>Sis</td><td>12</td><td>Female</td><td> 83</td></tr>\n",
              "\t<tr><td>Bro</td><td> 8</td><td>Male  </td><td> 61</td></tr>\n",
              "\t<tr><td>Dog</td><td> 5</td><td>Female</td><td> 44</td></tr>\n",
              "</tbody>\n",
              "</table>\n"
            ],
            "text/markdown": "\nA data.frame: 5 × 4\n\n| FamilyNames &lt;chr&gt; | FamilyAges &lt;int&gt; | FamilyGenders &lt;chr&gt; | FamilyWeights &lt;int&gt; |\n|---|---|---|---|\n| Dad | 43 | Male   | 188 |\n| Mom | 42 | Female | 136 |\n| Sis | 12 | Female |  83 |\n| Bro |  8 | Male   |  61 |\n| Dog |  5 | Female |  44 |\n\n",
            "text/latex": "A data.frame: 5 × 4\n\\begin{tabular}{llll}\n FamilyNames & FamilyAges & FamilyGenders & FamilyWeights\\\\\n <chr> & <int> & <chr> & <int>\\\\\n\\hline\n\t Dad & 43 & Male   & 188\\\\\n\t Mom & 42 & Female & 136\\\\\n\t Sis & 12 & Female &  83\\\\\n\t Bro &  8 & Male   &  61\\\\\n\t Dog &  5 & Female &  44\\\\\n\\end{tabular}\n",
            "text/plain": [
              "  FamilyNames FamilyAges FamilyGenders FamilyWeights\n",
              "1 Dad         43         Male          188          \n",
              "2 Mom         42         Female        136          \n",
              "3 Sis         12         Female         83          \n",
              "4 Bro          8         Male           61          \n",
              "5 Dog          5         Female         44          "
            ]
          },
          "metadata": {}
        }
      ]
    },
    {
      "cell_type": "markdown",
      "source": [
        "Obtener el tipo de dato de columnas"
      ],
      "metadata": {
        "id": "-pB6OITR_vyc"
      }
    },
    {
      "cell_type": "code",
      "source": [
        "class(datos$FamilyNames)"
      ],
      "metadata": {
        "colab": {
          "base_uri": "https://localhost:8080/",
          "height": 34
        },
        "id": "U5RQ4ViK_1H3",
        "outputId": "cbdb0c4d-51c0-4863-9c59-0b919f0aadae"
      },
      "execution_count": 10,
      "outputs": [
        {
          "output_type": "display_data",
          "data": {
            "text/html": [
              "'character'"
            ],
            "text/markdown": "'character'",
            "text/latex": "'character'",
            "text/plain": [
              "[1] \"character\""
            ]
          },
          "metadata": {}
        }
      ]
    },
    {
      "cell_type": "markdown",
      "source": [
        "Si quiero cambiar los tipos de las columnas"
      ],
      "metadata": {
        "id": "0QDkFlnu__dN"
      }
    },
    {
      "cell_type": "code",
      "source": [
        "clases_cols <- c(\"character\",\"integer\",\"factor\",\"integer\")\n",
        "\n",
        "datos <- read.table(\"datos.txt\",header = T,colClasses = clases_cols)\n",
        "datos"
      ],
      "metadata": {
        "colab": {
          "base_uri": "https://localhost:8080/",
          "height": 255
        },
        "id": "2AxiygDZAD5m",
        "outputId": "1c33ce02-d0c5-43eb-ec77-3daf06f0c27b"
      },
      "execution_count": 11,
      "outputs": [
        {
          "output_type": "display_data",
          "data": {
            "text/html": [
              "<table class=\"dataframe\">\n",
              "<caption>A data.frame: 5 × 4</caption>\n",
              "<thead>\n",
              "\t<tr><th scope=col>FamilyNames</th><th scope=col>FamilyAges</th><th scope=col>FamilyGenders</th><th scope=col>FamilyWeights</th></tr>\n",
              "\t<tr><th scope=col>&lt;chr&gt;</th><th scope=col>&lt;int&gt;</th><th scope=col>&lt;fct&gt;</th><th scope=col>&lt;int&gt;</th></tr>\n",
              "</thead>\n",
              "<tbody>\n",
              "\t<tr><td>Dad</td><td>43</td><td>Male  </td><td>188</td></tr>\n",
              "\t<tr><td>Mom</td><td>42</td><td>Female</td><td>136</td></tr>\n",
              "\t<tr><td>Sis</td><td>12</td><td>Female</td><td> 83</td></tr>\n",
              "\t<tr><td>Bro</td><td> 8</td><td>Male  </td><td> 61</td></tr>\n",
              "\t<tr><td>Dog</td><td> 5</td><td>Female</td><td> 44</td></tr>\n",
              "</tbody>\n",
              "</table>\n"
            ],
            "text/markdown": "\nA data.frame: 5 × 4\n\n| FamilyNames &lt;chr&gt; | FamilyAges &lt;int&gt; | FamilyGenders &lt;fct&gt; | FamilyWeights &lt;int&gt; |\n|---|---|---|---|\n| Dad | 43 | Male   | 188 |\n| Mom | 42 | Female | 136 |\n| Sis | 12 | Female |  83 |\n| Bro |  8 | Male   |  61 |\n| Dog |  5 | Female |  44 |\n\n",
            "text/latex": "A data.frame: 5 × 4\n\\begin{tabular}{llll}\n FamilyNames & FamilyAges & FamilyGenders & FamilyWeights\\\\\n <chr> & <int> & <fct> & <int>\\\\\n\\hline\n\t Dad & 43 & Male   & 188\\\\\n\t Mom & 42 & Female & 136\\\\\n\t Sis & 12 & Female &  83\\\\\n\t Bro &  8 & Male   &  61\\\\\n\t Dog &  5 & Female &  44\\\\\n\\end{tabular}\n",
            "text/plain": [
              "  FamilyNames FamilyAges FamilyGenders FamilyWeights\n",
              "1 Dad         43         Male          188          \n",
              "2 Mom         42         Female        136          \n",
              "3 Sis         12         Female         83          \n",
              "4 Bro          8         Male           61          \n",
              "5 Dog          5         Female         44          "
            ]
          },
          "metadata": {}
        }
      ]
    },
    {
      "cell_type": "markdown",
      "source": [
        "Agregar una nueva fila, podemos crear un vector con la funcion\n",
        "\n",
        "```\n",
        "c()\n",
        "```\n",
        "\n",
        "y luego agregamos la nueva fila y sobreescribimos el archivo\n"
      ],
      "metadata": {
        "id": "R7TWhYemAqBp"
      }
    },
    {
      "cell_type": "code",
      "source": [
        "nuevos_datos <- c(\"Cat\",2,\"Male\",10)\n",
        "datos <- rbind(datos,nuevos_datos)\n",
        "write.table(datos,file = \"datos3.txt\",quote=F,row.names = F)\n"
      ],
      "metadata": {
        "id": "ZIfaZmdjA8_w"
      },
      "execution_count": 13,
      "outputs": []
    }
  ]
}